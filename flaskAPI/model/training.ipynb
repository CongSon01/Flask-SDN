{
 "cells": [
  {
   "cell_type": "code",
   "execution_count": 1,
   "metadata": {},
   "outputs": [
    {
     "name": "stderr",
     "output_type": "stream",
     "text": [
      "2022-08-03 15:06:42.983184: W tensorflow/stream_executor/platform/default/dso_loader.cc:64] Could not load dynamic library 'libcudart.so.11.0'; dlerror: libcudart.so.11.0: cannot open shared object file: No such file or directory\n",
      "2022-08-03 15:06:42.983208: I tensorflow/stream_executor/cuda/cudart_stub.cc:29] Ignore above cudart dlerror if you do not have a GPU set up on your machine.\n"
     ]
    }
   ],
   "source": [
    "import pandas as pd\n",
    "import json\n",
    "from keras.models import Sequential\n",
    "from keras.layers import Dense, LSTM\n",
    "from sklearn.preprocessing import MinMaxScaler\n",
    "import tensorflow as tf "
   ]
  },
  {
   "cell_type": "code",
   "execution_count": 2,
   "metadata": {},
   "outputs": [],
   "source": [
    "\n",
    "ip = str(json.load(open('/home/onos/Downloads/flask_SDN/config.json'))['ip_local'])\n",
    "file_name = str(ip).split('.')[-1] + '_lstm'\n",
    "dataframe = pd.read_csv('/home/onos/Downloads/' + file_name + '.csv')\n"
   ]
  },
  {
   "cell_type": "markdown",
   "metadata": {},
   "source": [
    "# Tiền Xử Lý"
   ]
  },
  {
   "cell_type": "code",
   "execution_count": 3,
   "metadata": {},
   "outputs": [],
   "source": [
    "# dataframe.drop(['_id','byteSent','byteReceived','IpSDN','src', 'dst'], axis=1, inplace=True)\n",
    "dataframe.drop(['IpSDN', 'src', 'dst'], axis=1, inplace=True)"
   ]
  },
  {
   "cell_type": "markdown",
   "metadata": {},
   "source": [
    "# Xu ly mat can bang"
   ]
  },
  {
   "cell_type": "code",
   "execution_count": 4,
   "metadata": {},
   "outputs": [
    {
     "name": "stdout",
     "output_type": "stream",
     "text": [
      "82498\n",
      "183987\n"
     ]
    }
   ],
   "source": [
    "# Separate majority and minority classes\n",
    "df_minority = dataframe[dataframe['label'] ==1]\n",
    "df_majority = dataframe[dataframe['label'] ==0]\n",
    "\n",
    "print(len(df_minority))\n",
    "print(len(df_majority))"
   ]
  },
  {
   "cell_type": "code",
   "execution_count": 5,
   "metadata": {},
   "outputs": [],
   "source": [
    "# from sklearn.utils import resample\n",
    "# # Downsample majority class\n",
    "# df_majority_downsampled = resample(df_majority, \n",
    "#                                  replace=False,    \n",
    "#                                  n_samples= 120000)\n",
    "\n",
    "# #Upsample minority class\n",
    "# df_minority_upsampled = resample(df_minority, \n",
    "#                                  replace=True,     \n",
    "#                                  n_samples= 120000)"
   ]
  },
  {
   "cell_type": "code",
   "execution_count": 6,
   "metadata": {},
   "outputs": [
    {
     "data": {
      "text/plain": [
       "<matplotlib.axes._subplots.AxesSubplot at 0x7f428e5b0090>"
      ]
     },
     "execution_count": 6,
     "metadata": {},
     "output_type": "execute_result"
    },
    {
     "data": {
      "image/png": "[encoded data removed]",
      "text/plain": [
       "<Figure size 432x288 with 1 Axes>"
      ]
     },
     "metadata": {
      "needs_background": "light"
     },
     "output_type": "display_data"
    }
   ],
   "source": [
    "df_up_down_sampled = pd.concat([df_majority, df_minority])\n",
    "df_up_down_sampled['label'].value_counts().plot(kind='bar')"
   ]
  },
  {
   "cell_type": "markdown",
   "metadata": {},
   "source": [
    "# Min Max scaler"
   ]
  },
  {
   "cell_type": "code",
   "execution_count": 7,
   "metadata": {},
   "outputs": [],
   "source": [
    "y = df_up_down_sampled['label']\n",
    "X = df_up_down_sampled.drop(columns='label')\n",
    "y_set = y.values\n",
    "X_set = X.values.astype('float32')\n",
    "\n",
    "# normalize the dataset\n",
    "scaler = MinMaxScaler(feature_range=(0, 1))\n",
    "X_set = scaler.fit_transform(X_set)\n"
   ]
  },
  {
   "cell_type": "code",
   "execution_count": 8,
   "metadata": {},
   "outputs": [
    {
     "data": {
      "text/plain": [
       "['scaler.save']"
      ]
     },
     "execution_count": 8,
     "metadata": {},
     "output_type": "execute_result"
    }
   ],
   "source": [
    "# import sklearn.external.joblib as extjoblib\n",
    "import joblib\n",
    "scaler_filename = \"scaler.save\"\n",
    "joblib.dump(scaler, scaler_filename) "
   ]
  },
  {
   "cell_type": "code",
   "execution_count": 9,
   "metadata": {},
   "outputs": [],
   "source": [
    "from sklearn.model_selection import train_test_split\n",
    "from keras.callbacks import ModelCheckpoint, EarlyStopping\n",
    "train_X, test_X, train_y, test_y = train_test_split(X_set, y_set, test_size = 0.3)\n"
   ]
  },
  {
   "cell_type": "markdown",
   "metadata": {},
   "source": [
    "# build model"
   ]
  },
  {
   "cell_type": "code",
   "execution_count": 10,
   "metadata": {},
   "outputs": [],
   "source": [
    "# Thay đổi shape của tập X\n",
    "time_steps = 1\n",
    "input_train_lstm = train_X.reshape( train_X.shape[0], time_steps, train_X.shape[1] )\n",
    "\n",
    "input_test_lstm = test_X.reshape(   test_X.shape[0], time_steps, test_X.shape[1])\n"
   ]
  },
  {
   "cell_type": "code",
   "execution_count": 11,
   "metadata": {},
   "outputs": [
    {
     "name": "stderr",
     "output_type": "stream",
     "text": [
      "2022-08-03 15:06:45.841619: W tensorflow/stream_executor/platform/default/dso_loader.cc:64] Could not load dynamic library 'libcuda.so.1'; dlerror: libcuda.so.1: cannot open shared object file: No such file or directory\n",
      "2022-08-03 15:06:45.841640: W tensorflow/stream_executor/cuda/cuda_driver.cc:269] failed call to cuInit: UNKNOWN ERROR (303)\n",
      "2022-08-03 15:06:45.841654: I tensorflow/stream_executor/cuda/cuda_diagnostics.cc:156] kernel driver does not appear to be running on this host (onos-virtual-machine): /proc/driver/nvidia/version does not exist\n",
      "2022-08-03 15:06:45.841905: I tensorflow/core/platform/cpu_feature_guard.cc:193] This TensorFlow binary is optimized with oneAPI Deep Neural Network Library (oneDNN) to use the following CPU instructions in performance-critical operations:  AVX2 AVX512F FMA\n",
      "To enable them in other operations, rebuild TensorFlow with the appropriate compiler flags.\n"
     ]
    },
    {
     "name": "stdout",
     "output_type": "stream",
     "text": [
      "Model: \"sequential\"\n",
      "_________________________________________________________________\n",
      " Layer (type)                Output Shape              Param #   \n",
      "=================================================================\n",
      " lstm (LSTM)                 (None, 1, 64)             18688     \n",
      "                                                                 \n",
      " lstm_1 (LSTM)               (None, 1, 128)            98816     \n",
      "                                                                 \n",
      " lstm_2 (LSTM)               (None, 64)                49408     \n",
      "                                                                 \n",
      " dense (Dense)               (None, 1)                 65        \n",
      "                                                                 \n",
      "=================================================================\n",
      "Total params: 166,977\n",
      "Trainable params: 166,977\n",
      "Non-trainable params: 0\n",
      "_________________________________________________________________\n",
      "WARNING:tensorflow:`period` argument is deprecated. Please use `save_freq` to specify the frequency in number of batches seen.\n",
      "Epoch 1/100\n"
     ]
    }
   ],
   "source": [
    "# #Building the LSTM Model\n",
    "lstm = Sequential()\n",
    "# unit = hidden state\n",
    "lstm.add(LSTM(units=64, input_shape=(time_steps, input_train_lstm.shape[2]), activation='relu', return_sequences=True))\n",
    "\n",
    "lstm.add(LSTM(units=128, activation='relu', return_sequences=True))\n",
    "\n",
    "lstm.add(LSTM(units=64, activation='relu', return_sequences=False))\n",
    "\n",
    "# lop dau vao hinh tron\n",
    "lstm.add(Dense(1)) \n",
    "\n",
    "opt = tf.keras.optimizers.Adam(learning_rate=0.001)\n",
    "lstm.compile(loss='binary_crossentropy', optimizer=opt, metrics='accuracy')\n",
    "lstm.summary()\n",
    "file_name = \"/home/onos/Downloads/flask_SDN/lstmlocal.hdf5\"\n",
    "checkpoint = ModelCheckpoint(file_name, monitor='accuracy', save_best_only=True, mode='auto', period=1, verbose=1)\n",
    "# early = EarlyStopping(monitor='accuracy')\n",
    "epoch=100\n",
    "\n",
    "from time import time\n",
    "start = time()\n",
    "\n",
    "history = lstm.fit(input_train_lstm,\n",
    "                   train_y,\n",
    "                   epochs=epoch,\n",
    "                   verbose=1,\n",
    "                   callbacks=[checkpoint])\n",
    "                   \n",
    "print('Total training time: ', time()-start)"
   ]
  },
  {
   "cell_type": "code",
   "execution_count": null,
   "metadata": {},
   "outputs": [],
   "source": [
    "from keras.utils import plot_model\n",
    "plot_model(lstm)"
   ]
  }
 ],
 "metadata": {
  "kernelspec": {
   "display_name": "Python 3.7.13 ('venv': venv)",
   "language": "python",
   "name": "python3"
  },
  "language_info": {
   "codemirror_mode": {
    "name": "ipython",
    "version": 3
   },
   "file_extension": ".py",
   "mimetype": "text/x-python",
   "name": "python",
   "nbconvert_exporter": "python",
   "pygments_lexer": "ipython3",
   "version": "3.7.13"
  },
  "orig_nbformat": 4,
  "vscode": {
   "interpreter": {
    "hash": "4e5d662191a2770e65cfd5912a2c03b3e5b93f8f5758621f69c9112618d6fd1c"
   }
  }
 },
 "nbformat": 4,
 "nbformat_minor": 2
}
